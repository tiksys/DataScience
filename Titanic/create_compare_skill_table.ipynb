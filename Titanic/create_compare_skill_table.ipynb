{
 "cells": [
  {
   "cell_type": "code",
   "execution_count": 1,
   "id": "fc6a9f88",
   "metadata": {},
   "outputs": [],
   "source": [
    "import pandas as pd\n",
    "import win32com.client\n",
    "import os"
   ]
  },
  {
   "cell_type": "code",
   "execution_count": 2,
   "id": "94949b04",
   "metadata": {},
   "outputs": [],
   "source": [
    "#もし発言録まとめの列名が変更された時のために\n",
    "KOUTEI_ID = \"koutei_ID\"\n",
    "SAGYO_ID = \"sagyo_ID\"\n",
    "KOUDOU_ID = \"koudou_ID\"\n",
    "#列を指定する際にループで増加させるインデックスの増加定数\n",
    "#\n",
    "INDEX_PLUS = 5"
   ]
  },
  {
   "cell_type": "code",
   "execution_count": 3,
   "id": "8b1f432b",
   "metadata": {},
   "outputs": [],
   "source": [
    "file_name = \"中間報告用発言録まとめ.xlsx\"\n",
    "sheet_names = pd.ExcelFile(file_name).sheet_names\n",
    "excels = pd.read_excel(file_name, sheet_name=sheet_names)"
   ]
  },
  {
   "cell_type": "code",
   "execution_count": 4,
   "id": "45194912",
   "metadata": {},
   "outputs": [],
   "source": [
    "xlApp = win32com.client.Dispatch(\"Excel.Application\")"
   ]
  },
  {
   "cell_type": "code",
   "execution_count": 5,
   "id": "07431ad8",
   "metadata": {},
   "outputs": [
    {
     "data": {
      "text/html": [
       "<div>\n",
       "<style scoped>\n",
       "    .dataframe tbody tr th:only-of-type {\n",
       "        vertical-align: middle;\n",
       "    }\n",
       "\n",
       "    .dataframe tbody tr th {\n",
       "        vertical-align: top;\n",
       "    }\n",
       "\n",
       "    .dataframe thead th {\n",
       "        text-align: right;\n",
       "    }\n",
       "</style>\n",
       "<table border=\"1\" class=\"dataframe\">\n",
       "  <thead>\n",
       "    <tr style=\"text-align: right;\">\n",
       "      <th></th>\n",
       "      <th>koutei_ID</th>\n",
       "      <th>sagyo_ID</th>\n",
       "      <th>koudou_ID</th>\n",
       "    </tr>\n",
       "  </thead>\n",
       "  <tbody>\n",
       "    <tr>\n",
       "      <th>0</th>\n",
       "      <td>1</td>\n",
       "      <td>1</td>\n",
       "      <td>1</td>\n",
       "    </tr>\n",
       "    <tr>\n",
       "      <th>1</th>\n",
       "      <td>1</td>\n",
       "      <td>1</td>\n",
       "      <td>2</td>\n",
       "    </tr>\n",
       "    <tr>\n",
       "      <th>2</th>\n",
       "      <td>1</td>\n",
       "      <td>2</td>\n",
       "      <td>1</td>\n",
       "    </tr>\n",
       "    <tr>\n",
       "      <th>3</th>\n",
       "      <td>1</td>\n",
       "      <td>3</td>\n",
       "      <td>1</td>\n",
       "    </tr>\n",
       "    <tr>\n",
       "      <th>4</th>\n",
       "      <td>1</td>\n",
       "      <td>3</td>\n",
       "      <td>2</td>\n",
       "    </tr>\n",
       "    <tr>\n",
       "      <th>5</th>\n",
       "      <td>1</td>\n",
       "      <td>4</td>\n",
       "      <td>1</td>\n",
       "    </tr>\n",
       "    <tr>\n",
       "      <th>6</th>\n",
       "      <td>1</td>\n",
       "      <td>5</td>\n",
       "      <td>1</td>\n",
       "    </tr>\n",
       "    <tr>\n",
       "      <th>7</th>\n",
       "      <td>1</td>\n",
       "      <td>6</td>\n",
       "      <td>1</td>\n",
       "    </tr>\n",
       "    <tr>\n",
       "      <th>8</th>\n",
       "      <td>2</td>\n",
       "      <td>1</td>\n",
       "      <td>1</td>\n",
       "    </tr>\n",
       "    <tr>\n",
       "      <th>9</th>\n",
       "      <td>2</td>\n",
       "      <td>1</td>\n",
       "      <td>2</td>\n",
       "    </tr>\n",
       "    <tr>\n",
       "      <th>10</th>\n",
       "      <td>3</td>\n",
       "      <td>1</td>\n",
       "      <td>1</td>\n",
       "    </tr>\n",
       "  </tbody>\n",
       "</table>\n",
       "</div>"
      ],
      "text/plain": [
       "   koutei_ID sagyo_ID koudou_ID\n",
       "0          1        1         1\n",
       "1          1        1         2\n",
       "2          1        2         1\n",
       "3          1        3         1\n",
       "4          1        3         2\n",
       "5          1        4         1\n",
       "6          1        5         1\n",
       "7          1        6         1\n",
       "8          2        1         1\n",
       "9          2        1         2\n",
       "10         3        1         1"
      ]
     },
     "execution_count": 5,
     "metadata": {},
     "output_type": "execute_result"
    }
   ],
   "source": [
    "colmuns = [KOUTEI_ID, SAGYO_ID, KOUDOU_ID]\n",
    "IDs = pd.DataFrame(index=[], columns=colmuns)\n",
    "for sheet_name in sheet_names:\n",
    "    excel = excels[sheet_name]\n",
    "    excel[KOUTEI_ID] = excel[KOUTEI_ID].fillna(method=\"ffill\").astype(int)\n",
    "    excel[SAGYO_ID] = excel[SAGYO_ID].fillna(method=\"ffill\").astype(int)\n",
    "    excel[KOUDOU_ID] = excel[KOUDOU_ID].fillna(method=\"ffill\").astype(int)\n",
    "    sub_IDs = excel[colmuns]\n",
    "    IDs = IDs.append(sub_IDs)\n",
    "IDs = IDs.drop_duplicates().sort_values([KOUTEI_ID,SAGYO_ID,KOUDOU_ID]).reset_index(drop=True)\n",
    "IDs"
   ]
  },
  {
   "cell_type": "code",
   "execution_count": 18,
   "id": "17c9dcac",
   "metadata": {},
   "outputs": [],
   "source": [
    "wb = xlApp.Workbooks.Add()\n",
    "ws = wb.sheets[0]\n",
    "ws.Name = \"比較技能分析表\"\n",
    "xlApp.Visible = True"
   ]
  },
  {
   "cell_type": "code",
   "execution_count": 19,
   "id": "fbfb9bec",
   "metadata": {},
   "outputs": [],
   "source": [
    "#header作成\n",
    "header = [\n",
    "    \"工程\",\n",
    "    \"作業\",\n",
    "    \"具体的な行動\\n共通人数\",\n",
    "    \"行動のポイント\\n共通人数\",\n",
    "    \"行動の背景\\n共通人数\",\n",
    "    \"比較\"\n",
    "]\n",
    "ws.Range(ws.Cells(2,2),ws.Cells(2,7)).Value = header\n",
    "ws.Range(ws.Cells(2,2),ws.Cells(2,7)).HorizontalAlignment = 3\n",
    "for i, sheet_name in enumerate(sheet_names):\n",
    "    i += 1 #excelの列インデックスに使うため\n",
    "    ws.Cells(2,i*3+INDEX_PLUS).Value = sheet_name\n",
    "    target_range = ws.Range(ws.Cells(2,i*3+INDEX_PLUS),ws.Cells(2,i*3+INDEX_PLUS+2))\n",
    "    target_range.MergeCells = True\n",
    "    target_range.HorizontalAlignment = 3\n",
    "    target_range.ColumnWidth = 30"
   ]
  },
  {
   "cell_type": "code",
   "execution_count": 20,
   "id": "ae633a7c",
   "metadata": {},
   "outputs": [
    {
     "ename": "TypeError",
     "evalue": "Objects for SAFEARRAYS must be sequences (of sequences), or a buffer object.",
     "output_type": "error",
     "traceback": [
      "\u001b[1;31m---------------------------------------------------------------------------\u001b[0m",
      "\u001b[1;31mTypeError\u001b[0m                                 Traceback (most recent call last)",
      "\u001b[1;32m<ipython-input-20-7c935f1164c2>\u001b[0m in \u001b[0;36m<module>\u001b[1;34m\u001b[0m\n\u001b[0;32m    105\u001b[0m         \u001b[1;31m#内容を埋めていく\u001b[0m\u001b[1;33m\u001b[0m\u001b[1;33m\u001b[0m\u001b[1;33m\u001b[0m\u001b[0m\n\u001b[0;32m    106\u001b[0m         \u001b[1;32mif\u001b[0m \u001b[0mnum_koudou\u001b[0m \u001b[1;33m==\u001b[0m \u001b[1;36m1\u001b[0m\u001b[1;33m:\u001b[0m\u001b[1;33m\u001b[0m\u001b[1;33m\u001b[0m\u001b[0m\n\u001b[1;32m--> 107\u001b[1;33m             ws.Range(ws.Cells(skill_table_row, sub_cnt*3+INDEX_PLUS),\n\u001b[0m\u001b[0;32m    108\u001b[0m                      ws.Cells(skill_table_row, sub_cnt*3+INDEX_PLUS+2)).value = skill_table\n\u001b[0;32m    109\u001b[0m         \u001b[1;32melse\u001b[0m\u001b[1;33m:\u001b[0m\u001b[1;33m\u001b[0m\u001b[1;33m\u001b[0m\u001b[0m\n",
      "\u001b[1;32m~\\Anaconda3\\lib\\site-packages\\win32com\\client\\dynamic.py\u001b[0m in \u001b[0;36m__setattr__\u001b[1;34m(self, attr, value)\u001b[0m\n\u001b[0;32m    573\u001b[0m                                 \u001b[1;32mtry\u001b[0m\u001b[1;33m:\u001b[0m\u001b[1;33m\u001b[0m\u001b[1;33m\u001b[0m\u001b[0m\n\u001b[0;32m    574\u001b[0m                                         \u001b[0minvoke_type\u001b[0m \u001b[1;33m=\u001b[0m \u001b[0m_GetDescInvokeType\u001b[0m\u001b[1;33m(\u001b[0m\u001b[0mentry\u001b[0m\u001b[1;33m,\u001b[0m \u001b[0mpythoncom\u001b[0m\u001b[1;33m.\u001b[0m\u001b[0mINVOKE_PROPERTYPUT\u001b[0m\u001b[1;33m)\u001b[0m\u001b[1;33m\u001b[0m\u001b[1;33m\u001b[0m\u001b[0m\n\u001b[1;32m--> 575\u001b[1;33m                                         \u001b[0mself\u001b[0m\u001b[1;33m.\u001b[0m\u001b[0m_oleobj_\u001b[0m\u001b[1;33m.\u001b[0m\u001b[0mInvoke\u001b[0m\u001b[1;33m(\u001b[0m\u001b[0mentry\u001b[0m\u001b[1;33m.\u001b[0m\u001b[0mdispid\u001b[0m\u001b[1;33m,\u001b[0m \u001b[1;36m0\u001b[0m\u001b[1;33m,\u001b[0m \u001b[0minvoke_type\u001b[0m\u001b[1;33m,\u001b[0m \u001b[1;36m0\u001b[0m\u001b[1;33m,\u001b[0m \u001b[0mvalue\u001b[0m\u001b[1;33m)\u001b[0m\u001b[1;33m\u001b[0m\u001b[1;33m\u001b[0m\u001b[0m\n\u001b[0m\u001b[0;32m    576\u001b[0m                                         \u001b[0mself\u001b[0m\u001b[1;33m.\u001b[0m\u001b[0m_olerepr_\u001b[0m\u001b[1;33m.\u001b[0m\u001b[0mpropMap\u001b[0m\u001b[1;33m[\u001b[0m\u001b[0mattr\u001b[0m\u001b[1;33m]\u001b[0m \u001b[1;33m=\u001b[0m \u001b[0mentry\u001b[0m\u001b[1;33m\u001b[0m\u001b[1;33m\u001b[0m\u001b[0m\n\u001b[0;32m    577\u001b[0m                                         \u001b[0mdebug_attr_print\u001b[0m\u001b[1;33m(\u001b[0m\u001b[1;34m\"__setattr__ property %s (id=0x%x) in Dispatch container %s\"\u001b[0m \u001b[1;33m%\u001b[0m \u001b[1;33m(\u001b[0m\u001b[0mattr\u001b[0m\u001b[1;33m,\u001b[0m \u001b[0mentry\u001b[0m\u001b[1;33m.\u001b[0m\u001b[0mdispid\u001b[0m\u001b[1;33m,\u001b[0m \u001b[0mself\u001b[0m\u001b[1;33m.\u001b[0m\u001b[0m_username_\u001b[0m\u001b[1;33m)\u001b[0m\u001b[1;33m)\u001b[0m\u001b[1;33m\u001b[0m\u001b[1;33m\u001b[0m\u001b[0m\n",
      "\u001b[1;31mTypeError\u001b[0m: Objects for SAFEARRAYS must be sequences (of sequences), or a buffer object."
     ]
    }
   ],
   "source": [
    "#技能分析表作成\n",
    "koutei_ID = 0\n",
    "sagyo_ID = 0\n",
    "koutei_st = 3\n",
    "sagyo_st = 3\n",
    "img_size = 5#画像のheight(cm)\n",
    "for row in range(1):#range(len(IDs)):\n",
    "    for sub_cnt, sheet_name in enumerate(sheet_names):\n",
    "        sub_cnt += 1 #excelの列インデックスに使うため\n",
    "        excel = excels[sheet_name]\n",
    "        #koutei_ID,sagyou_ID,Koudou_IDが全て一致するものを抽出\n",
    "        skill_table = excel[\n",
    "            (excel[KOUTEI_ID] == IDs[KOUTEI_ID][row]) &\n",
    "            (excel[SAGYO_ID] == IDs[SAGYO_ID][row]) &\n",
    "            (excel[KOUDOU_ID] == IDs[KOUDOU_ID][row])\n",
    "        ]\n",
    "        #koutei_IDが変わった時に工程列が空白であれば、工程をB列に記入\n",
    "        if koutei_ID != IDs[KOUTEI_ID][row] & (ws.Cells(koutei_st,2).Value is None):\n",
    "            ws.Cells(koutei_st,2).Value = skill_table[\"工程\"][0]\n",
    "            \n",
    "        #動画があれば、リンクを挿入\n",
    "        df_video = skill_table.filter(like = \"video\", axis = 1).reset_index(drop=True)\n",
    "        if(not(df_video.empty)):\n",
    "            df_video = df_video.dropna(how=\"all\", axis=1)\n",
    "            for video_cnt,video_index in enumerate(df_video):\n",
    "                video_path = os.getcwd() + \"/videos/\" + df_video[video_index][0]\n",
    "                #ディレクトリにファイルが存在する場合はリンクを挿入\n",
    "                if os.path.exists(video_path):\n",
    "                    ws.Cells(sagyo_st, sub_cnt*3+5+video_cnt).Value = df_video[video_index][0]\n",
    "                    ws.Hyperlinks.Add(\n",
    "                        Anchor = ws.Cells(sagyo_st, sub_cnt*3+INDEX_PLUS+video_cnt), \n",
    "                        Address = video_path\n",
    "                    )\n",
    "                else:\n",
    "                    print(video_path, \"なんてないで！！\")\n",
    "                    \n",
    "        #画像があれば挿入\n",
    "        df_image = skill_table.filter(like = \"image\", axis = 1)\n",
    "        if(not(df_image.empty)):\n",
    "            df_image = df_image.dropna(how=\"all\", axis=1).reset_index(drop=True)\n",
    "            image_row = sagyo_st + 1#画像を挿入する行数\n",
    "            #画像行の行高さを調整 img_size*33\n",
    "            ws.Rows(image_row).RowHeight = img_size * 33 \n",
    "            for image_cnt,image_index in enumerate(df_image):\n",
    "                image_path = os.getcwd() + \"/images/\" + df_image[image_index][0]\n",
    "                #画像3枚ごとに次の行に挿入\n",
    "                if image_cnt / 3 == 1:\n",
    "                    image_row += 1\n",
    "                    #画像行の行高さを調整 img_size*33\n",
    "                    ws.Rows(image_row).RowHeight = img_size * 33\n",
    "                #ディレクトリにファイルが存在する場合は画像を挿入\n",
    "                if os.path.exists(image_path):\n",
    "                    image = ws.Shapes.AddPicture(\n",
    "                        Filename = os.getcwd() + \"/images/\" + df_image[image_index][0],\n",
    "                        LinkToFile = False,\n",
    "                        SaveWithDocument = True,\n",
    "                        Left = ws.Cells(image_row, sub_cnt*3+INDEX_PLUS+image_cnt).Left,\n",
    "                        Top = ws.Cells(image_row, sub_cnt*3+INDEX_PLUS+image_cnt).Top,\n",
    "                        Width = -1,\n",
    "                        Height= -1\n",
    "                    )\n",
    "                    #画像番号入力\n",
    "                    ws.Cells(image_row, sub_cnt*3+INDEX_PLUS+image_cnt).value = image_cnt + 1\n",
    "                    ws.Cells(image_row, sub_cnt*3+INDEX_PLUS+image_cnt).HorizontalAlignment = 2\n",
    "                    ws.Cells(image_row, sub_cnt*3+INDEX_PLUS+image_cnt).VerticalAlignment = 1\n",
    "                    \n",
    "                    #画像サイズ調整\n",
    "                    image.Height = 28.34646 * img_size\n",
    "                    if image.Width > 28.34646 * 6:#img_sizeで指定した幅(cm)のアスペクト比計算で幅が6cmを超える場合は7cmに設定\n",
    "                        image.Width = 28.34646 * 6\n",
    "                    \n",
    "                    #画像をセルの中央へ配置\n",
    "                    image.Left = ws.Cells(image_row,sub_cnt*3+INDEX_PLUS+image_cnt).Left \\\n",
    "                        + (ws.Cells(image_row,sub_cnt*3+INDEX_PLUS+image_cnt).Width - image.Width) / 2\n",
    "                    image.Top = ws.Cells(image_row,sub_cnt*3+INDEX_PLUS+image_cnt).Top\\\n",
    "                        + (ws.Cells(image_row,sub_cnt*3+INDEX_PLUS+image_cnt).Height - image.Height) / 2\n",
    "                else:\n",
    "                    print(image_path, \"なんてないで！！\")\n",
    "           \n",
    "    #miniheader記入\n",
    "    minihead_row = ws.UsedRange.Rows.Count + 2\n",
    "    miniheader = [\"具体的な行動\", \"行動のポイント\", \"行動の背景\"]\n",
    "    for i in range(len(sheet_names)):\n",
    "        i += 1 #excelの列インデックスに使うため\n",
    "        target_range = ws.Range(ws.Cells(minihead_row, i*3+INDEX_PLUS), ws.Cells(minihead_row, i*3+INDEX_PLUS+2))\n",
    "        target_range.Value = miniheader\n",
    "        target_range.HorizontalAlignment = 3\n",
    "        \n",
    "    #技能分析表の内容を記入\n",
    "    skill_table_row = minihead_row + 1\n",
    "    #一人ずつ内容を埋めていく\n",
    "    for sub_cnt, sheet_name in enumerate(sheet_names):\n",
    "        sub_cnt += 1 #excelの列インデックスに使うため\n",
    "        excel = excels[sheet_name]\n",
    "        #koutei_ID,sagyou_ID,Koudou_IDが全て一致するものを抽出\n",
    "        skill_table = excel[\n",
    "            (excel[KOUTEI_ID] == IDs[KOUTEI_ID][row]) &\n",
    "            (excel[SAGYO_ID] == IDs[SAGYO_ID][row]) &\n",
    "            (excel[KOUDOU_ID] == IDs[KOUDOU_ID][row])\n",
    "        ]\n",
    "        #内容記載に必要部分のみ抽出\n",
    "        skill_table = skill_table.loc[:, [\"具体的な行動の仕方\", \"行動のポイント\", \"ポイントの背景\"]]\n",
    "        #行動の行数\n",
    "        num_koudou = skill_table.shape[0]\n",
    "        #内容を埋めていく\n",
    "        if num_koudou == 1:\n",
    "            ws.Range(ws.Cells(skill_table_row, sub_cnt*3+INDEX_PLUS),\n",
    "                     ws.Cells(skill_table_row, sub_cnt*3+INDEX_PLUS+2)).value = skill_table\n",
    "        else:\n",
    "            ws.Range(ws.Cells(skill_table_row, sub_cnt*3+INDEX_PLUS),\n",
    "                     ws.Cells(skill_table_row+num_koudou, sub_cnt*3+INDEX_PLUS+2)).value = skill_table\n",
    "\n",
    "    sagyo_st = ws.UsedRange.Rows.Count + 2"
   ]
  },
  {
   "cell_type": "code",
   "execution_count": 33,
   "id": "946ae1cd",
   "metadata": {},
   "outputs": [
    {
     "name": "stdout",
     "output_type": "stream",
     "text": [
      "3\n"
     ]
    }
   ],
   "source": [
    "len(df_image)\n",
    "print(ws.UsedRange.Rows.Count)"
   ]
  },
  {
   "cell_type": "code",
   "execution_count": 16,
   "id": "01eb1ab1",
   "metadata": {},
   "outputs": [
    {
     "data": {
      "text/plain": [
       "1"
      ]
     },
     "execution_count": 16,
     "metadata": {},
     "output_type": "execute_result"
    }
   ],
   "source": [
    "ws.UsedRange.Rows.Count"
   ]
  },
  {
   "cell_type": "code",
   "execution_count": 76,
   "id": "0c66f089",
   "metadata": {},
   "outputs": [],
   "source": [
    "skill_table = excel[\n",
    "            (excel[KOUTEI_ID] == IDs[KOUTEI_ID][0]) &\n",
    "            (excel[SAGYO_ID] == IDs[SAGYO_ID][0]) &\n",
    "            (excel[KOUDOU_ID] == IDs[KOUDOU_ID][0])\n",
    "        ]\n",
    "df_image = skill_table.filter(like = \"image\", axis = 1)\n",
    "df_image = df_image.dropna(how=\"all\", axis=1).reset_index(drop=True)\n",
    "skill_table = skill_table.loc[:,[\"具体的な行動の仕方\",\"行動のポイント\",\"ポイントの背景\"]]\n",
    "ws.Range(\"D3:F3\").value = skill_table.iloc[0,:]"
   ]
  },
  {
   "cell_type": "code",
   "execution_count": 12,
   "id": "31d77fd3",
   "metadata": {},
   "outputs": [],
   "source": [
    "xlApp.Quit()"
   ]
  }
 ],
 "metadata": {
  "kernelspec": {
   "display_name": "Python 3",
   "language": "python",
   "name": "python3"
  },
  "language_info": {
   "codemirror_mode": {
    "name": "ipython",
    "version": 3
   },
   "file_extension": ".py",
   "mimetype": "text/x-python",
   "name": "python",
   "nbconvert_exporter": "python",
   "pygments_lexer": "ipython3",
   "version": "3.8.8"
  }
 },
 "nbformat": 4,
 "nbformat_minor": 5
}
